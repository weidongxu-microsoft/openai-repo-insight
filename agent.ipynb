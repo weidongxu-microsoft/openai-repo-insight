{
 "cells": [
  {
   "cell_type": "code",
   "execution_count": 32,
   "id": "693d3758",
   "metadata": {},
   "outputs": [],
   "source": [
    "# google-api-python-client\n",
    "\n",
    "import os\n",
    "from langchain.agents import load_tools\n",
    "from langchain.agents import initialize_agent\n",
    "from langchain.agents import AgentType\n",
    "from langchain.chat_models import AzureChatOpenAI"
   ]
  },
  {
   "cell_type": "code",
   "execution_count": 33,
   "id": "1db19343",
   "metadata": {},
   "outputs": [],
   "source": [
    "os.environ['OPENAI_API_TYPE'] = 'azure'\n",
    "os.environ['OPENAI_API_VERSION'] = '2023-03-15-preview'\n",
    "# os.environ['OPENAI_API_BASE'] = 'https://###.openai.azure.com/'\n",
    "# os.environ['OPENAI_API_KEY'] = '###'\n",
    "# os.environ['GOOGLE_CSE_ID'] = '###'\n",
    "# os.environ['GOOGLE_API_KEY'] = '###'"
   ]
  },
  {
   "cell_type": "code",
   "execution_count": 34,
   "id": "fdcc9437",
   "metadata": {},
   "outputs": [],
   "source": [
    "chat_model = AzureOpenAI(deployment_name='gpt-35-turbo', temperature=0)\n",
    "\n",
    "tools = load_tools(['google-search', 'llm-math'], llm=chat_model)"
   ]
  },
  {
   "cell_type": "code",
   "execution_count": 35,
   "id": "66ab31b3",
   "metadata": {},
   "outputs": [],
   "source": [
    "agent = initialize_agent(tools=tools, llm=chat_model, agent=AgentType.ZERO_SHOT_REACT_DESCRIPTION, verbose=True)"
   ]
  },
  {
   "cell_type": "code",
   "execution_count": null,
   "id": "86dd7be4",
   "metadata": {},
   "outputs": [],
   "source": [
    "agent.run('generate the JSON for the REST CALL to create Azure event hubs with compaction enabled')"
   ]
  }
 ],
 "metadata": {
  "kernelspec": {
   "display_name": "Python [conda env:llm]",
   "language": "python",
   "name": "conda-env-llm-py"
  },
  "language_info": {
   "codemirror_mode": {
    "name": "ipython",
    "version": 3
   },
   "file_extension": ".py",
   "mimetype": "text/x-python",
   "name": "python",
   "nbconvert_exporter": "python",
   "pygments_lexer": "ipython3",
   "version": "3.11.4"
  }
 },
 "nbformat": 4,
 "nbformat_minor": 5
}
