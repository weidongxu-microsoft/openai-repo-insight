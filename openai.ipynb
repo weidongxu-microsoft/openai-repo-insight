{
 "cells": [
  {
   "cell_type": "code",
   "execution_count": 1,
   "id": "e7f58148",
   "metadata": {},
   "outputs": [],
   "source": [
    "# required packages:\n",
    "# langchain\n",
    "# openai\n",
    "# tiktoken\n",
    "# chromadb\n",
    "\n",
    "import os\n",
    "from langchain.chains import RetrievalQA\n",
    "from langchain.chat_models import AzureChatOpenAI\n",
    "from langchain.indexes import VectorstoreIndexCreator\n",
    "from langchain.indexes.vectorstore import VectorStoreIndexWrapper\n",
    "from langchain.embeddings.openai import OpenAIEmbeddings\n",
    "from langchain.document_loaders import TextLoader\n",
    "from langchain.vectorstores import Chroma\n",
    "from langchain.text_splitter import (\n",
    "    RecursiveCharacterTextSplitter,\n",
    "    Language,\n",
    ")"
   ]
  },
  {
   "cell_type": "code",
   "execution_count": 2,
   "id": "fc257ecd",
   "metadata": {},
   "outputs": [],
   "source": [
    "os.environ[\"OPENAI_API_TYPE\"] = \"azure\"\n",
    "os.environ[\"OPENAI_API_BASE\"] = \"https://###.openai.azure.com/\"\n",
    "os.environ[\"OPENAI_API_KEY\"] = \"###\"\n",
    "os.environ[\"OPENAI_API_VERSION\"] = \"2023-03-15-preview\""
   ]
  },
  {
   "cell_type": "code",
   "execution_count": 3,
   "id": "c20b20e3",
   "metadata": {},
   "outputs": [],
   "source": [
    "# azure openai\n",
    "\n",
    "azure_openai_embeddings = OpenAIEmbeddings(model='text-embedding-ada-002', chunk_size=1, disallowed_special=())\n",
    "\n",
    "azure_chat_openai = AzureChatOpenAI(deployment_name='gpt-4')"
   ]
  },
  {
   "cell_type": "code",
   "execution_count": 61,
   "id": "f6389142",
   "metadata": {},
   "outputs": [],
   "source": [
    "# load code\n",
    "\n",
    "# https://github.com/Azure/azure-rest-api-specs-examples\n",
    "# only use apimanagement, about 400 java files\n",
    "repo_dir = 'C:\\\\github\\\\azure-rest-api-specs-examples\\\\specification\\\\apimanagement\\\\resource-manager\\\\Microsoft.ApiManagement\\\\stable\\\\2021-08-01\\\\examples-java'\n",
    "\n",
    "loaders = []\n",
    "for dirpath, dirnames, filenames in os.walk(repo_dir):\n",
    "    for filename in filenames:\n",
    "        if filename.endswith('.java'):\n",
    "            loader = TextLoader(os.path.join(dirpath, filename), encoding='utf8')\n",
    "            loaders.append(loader)\n",
    "            \n",
    "# index repository\n",
    "\n",
    "index_creator = VectorstoreIndexCreator(\n",
    "    vectorstore_cls=Chroma, \n",
    "    embedding=azure_openai_embeddings,\n",
    "    text_splitter=RecursiveCharacterTextSplitter.from_language(language=Language.JAVA),\n",
    "    vectorstore_kwargs={\n",
    "        'persist_directory': './db-api-management'\n",
    "    }\n",
    ")\n",
    "\n",
    "index = index_creator.from_loaders(loaders)\n",
    "\n",
    "# persist vectordb to disk\n",
    "index.vectorstore.persist()"
   ]
  },
  {
   "cell_type": "code",
   "execution_count": 4,
   "id": "9fa55f1d",
   "metadata": {},
   "outputs": [],
   "source": [
    "# or load existing vectordb from disk\n",
    "\n",
    "vectordb = Chroma(persist_directory='./db-api-management', embedding_function=azure_openai_embeddings)\n",
    "index = VectorStoreIndexWrapper(vectorstore=vectordb)"
   ]
  },
  {
   "cell_type": "code",
   "execution_count": 63,
   "id": "4771e203",
   "metadata": {},
   "outputs": [
    {
     "name": "stdout",
     "output_type": "stream",
     "text": [
      "To create an API Management service, you can use the following sample code in Java using the Azure SDK:\n",
      "\n",
      "```java\n",
      "import com.azure.resourcemanager.apimanagement.models.ApiManagementServiceSkuProperties;\n",
      "import com.azure.resourcemanager.apimanagement.models.SkuType;\n",
      "import java.util.HashMap;\n",
      "import java.util.Map;\n",
      "\n",
      "public final class Main {\n",
      "    public static void apiManagementCreateService(\n",
      "        com.azure.resourcemanager.apimanagement.ApiManagementManager manager) {\n",
      "        manager\n",
      "            .apiManagementServices()\n",
      "            .define(\"apimService1\")\n",
      "            .withRegion(\"South Central US\")\n",
      "            .withExistingResourceGroup(\"rg1\")\n",
      "            .withSku(new ApiManagementServiceSkuProperties().withName(SkuType.DEVELOPER).withCapacity(1))\n",
      "            .withPublisherEmail(\"foo@contoso.com\")\n",
      "            .withPublisherName(\"foo\")\n",
      "            .withTags(mapOf(\"Name\", \"Contoso\", \"Test\", \"User\"))\n",
      "            .create();\n",
      "    }\n",
      "\n",
      "    @SuppressWarnings(\"unchecked\")\n",
      "    private static <T> Map<String, T> mapOf(Object... inputs) {\n",
      "        Map<String, T> map = new HashMap<>();\n",
      "        for (int i = 0; i < inputs.length; i += 2) {\n",
      "            String key = (String) inputs[i];\n",
      "            T value = (T) inputs[i + 1];\n",
      "            map.put(key, value);\n",
      "        }\n",
      "        return map;\n",
      "    }\n",
      "}\n",
      "```\n",
      "\n",
      "This code creates an API Management service with the Developer SKU in the \"South Central US\" region, with an existing resource group named \"rg1\". The publisher email and publisher name are set to \"foo@contoso.com\" and \"foo\" respectively. The service is also tagged with \"Name\", \"Contoso\", \"Test\", and \"User\".\n"
     ]
    }
   ],
   "source": [
    "answer = index.query('how to create api management', llm=azure_chat_openai)\n",
    "print(answer)"
   ]
  },
  {
   "cell_type": "code",
   "execution_count": 46,
   "id": "8cc80119",
   "metadata": {},
   "outputs": [
    {
     "name": "stdout",
     "output_type": "stream",
     "text": [
      "To configure a gateway using the Azure API Management SDK, follow these steps:\n",
      "\n",
      "1. Create an instance of `ApiManagementManager`.\n",
      "2. Use the `ApiManagementManager` instance to create a new gateway.\n",
      "3. Define the gateway's settings, such as location data and description.\n",
      "4. Create and configure a Gateway Hostname Configuration for the gateway.\n",
      "\n",
      "Here's a sample code to create and configure a gateway:\n",
      "\n",
      "```java\n",
      "import com.azure.resourcemanager.apimanagement.ApiManagementManager;\n",
      "import com.azure.resourcemanager.apimanagement.models.ResourceLocationDataContract;\n",
      "\n",
      "public final class Main {\n",
      "    public static void main(String[] args) {\n",
      "        // Initialize ApiManagementManager instance\n",
      "        ApiManagementManager manager = ...; // Initialize the manager instance with your configuration\n",
      "\n",
      "        // Create a new gateway\n",
      "        apiManagementCreateGateway(manager);\n",
      "\n",
      "        // Configure the Gateway Hostname\n",
      "        apiManagementCreateGatewayHostnameConfiguration(manager);\n",
      "    }\n",
      "\n",
      "    public static void apiManagementCreateGateway(ApiManagementManager manager) {\n",
      "        manager\n",
      "            .gateways()\n",
      "            .define(\"gw1\")\n",
      "            .withExistingService(\"rg1\", \"apimService1\")\n",
      "            .withLocationData(new ResourceLocationDataContract().withName(\"my location\"))\n",
      "            .withDescription(\"my gateway 1\")\n",
      "            .create();\n",
      "    }\n",
      "\n",
      "    public static void apiManagementCreateGatewayHostnameConfiguration(ApiManagementManager manager) {\n",
      "        manager\n",
      "            .gatewayHostnameConfigurations()\n",
      "            .define(\"default\")\n",
      "            .withExistingGateway(\"rg1\", \"apimService1\", \"gw1\")\n",
      "            .withHostname(\"*\")\n",
      "            .withCertificateId(\n",
      "                \"/subscriptions/subid/resourceGroups/rg1/providers/Microsoft.ApiManagement/service/apimService1/certificates/cert1\")\n",
      "            .withNegotiateClientCertificate(false)\n",
      "            .withTls10Enabled(false)\n",
      "            .withTls11Enabled(false)\n",
      "            .withHttp2Enabled(true)\n",
      "            .create();\n",
      "    }\n",
      "}\n",
      "```\n",
      "\n",
      "This code first creates a new gateway with a specified location and description. Then, it creates a Gateway Hostname Configuration with a wildcard hostname, certificate ID, and some security settings.\n"
     ]
    }
   ],
   "source": [
    "answer = index.query('how to configure gateway', llm=azure_chat_openai)\n",
    "print(answer)"
   ]
  },
  {
   "cell_type": "code",
   "execution_count": 6,
   "id": "40ba93ba",
   "metadata": {},
   "outputs": [
    {
     "name": "stdout",
     "output_type": "stream",
     "text": [
      "To create a logger, you can use the following sample code snippets as a reference:\n",
      "\n",
      "1. For an Application Insights Logger:\n",
      "\n",
      "```java\n",
      "import com.azure.resourcemanager.apimanagement.ApiManagementManager;\n",
      "import com.azure.resourcemanager.apimanagement.models.LoggerType;\n",
      "\n",
      "public static void apiManagementCreateAILogger(ApiManagementManager manager) {\n",
      "    manager\n",
      "        .loggers()\n",
      "        .define(\"loggerId\")\n",
      "        .withExistingService(\"rg1\", \"apimService1\")\n",
      "        .withLoggerType(LoggerType.APPLICATION_INSIGHTS)\n",
      "        .withDescription(\"adding a new logger\")\n",
      "        .withCredentials(mapOf(\"instrumentationKey\", \"11................a1\"))\n",
      "        .create();\n",
      "}\n",
      "```\n",
      "\n",
      "2. For an Azure Event Hub Logger:\n",
      "\n",
      "```java\n",
      "import com.azure.resourcemanager.apimanagement.ApiManagementManager;\n",
      "import com.azure.resourcemanager.apimanagement.models.LoggerType;\n",
      "\n",
      "public static void apiManagementCreateEHLogger(ApiManagementManager manager) {\n",
      "    manager\n",
      "        .loggers()\n",
      "        .define(\"eh1\")\n",
      "        .withExistingService(\"rg1\", \"apimService1\")\n",
      "        .withLoggerType(LoggerType.AZURE_EVENT_HUB)\n",
      "        .withDescription(\"adding a new logger\")\n",
      "        .withCredentials(\n",
      "            mapOf(\n",
      "                \"name\",\n",
      "                \"hydraeventhub\",\n",
      "                \"connectionString\",\n",
      "                \"Endpoint=sb://hydraeventhub-ns.servicebus.windows.net/;SharedAccessKeyName=RootManageSharedAccessKey;SharedAccessKey=********=\"))\n",
      "        .create();\n",
      "}\n",
      "```\n",
      "\n",
      "Make sure to replace the placeholders like \"rg1\", \"apimService1\", and credentials with your actual values.\n"
     ]
    }
   ],
   "source": [
    "answer = index.query('how to create logger', llm=azure_chat_openai)\n",
    "print(answer)\n",
    "\n",
    "# notes: it actually find the 2 samples of logger configure"
   ]
  },
  {
   "cell_type": "code",
   "execution_count": 72,
   "id": "735a29c9",
   "metadata": {},
   "outputs": [
    {
     "name": "stdout",
     "output_type": "stream",
     "text": [
      "Before you can run API Release, you need to create an API Management service instance and an API within that service. In the provided sample code, \"apimService1\" represents the API Management service instance, and \"a1\" represents the API within that service. Ensure that these resources are created and properly configured before running API Release.\n"
     ]
    }
   ],
   "source": [
    "answer = index.query('what resource do I need to create, before I can run api release', llm=azure_chat_openai)\n",
    "print(answer)\n",
    "\n",
    "# notes: it actually replies what are the depencencies, which is not clear from the samples.\n",
    "# It would be greate if follow up question like \"what are the code to create them\" can be answered correctly."
   ]
  }
 ],
 "metadata": {
  "kernelspec": {
   "display_name": "Python 3 (ipykernel)",
   "language": "python",
   "name": "python3"
  },
  "language_info": {
   "codemirror_mode": {
    "name": "ipython",
    "version": 3
   },
   "file_extension": ".py",
   "mimetype": "text/x-python",
   "name": "python",
   "nbconvert_exporter": "python",
   "pygments_lexer": "ipython3",
   "version": "3.10.11"
  }
 },
 "nbformat": 4,
 "nbformat_minor": 5
}
