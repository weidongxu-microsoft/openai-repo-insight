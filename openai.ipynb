{
 "cells": [
  {
   "cell_type": "code",
   "execution_count": 1,
   "id": "e7f58148",
   "metadata": {},
   "outputs": [],
   "source": [
    "# required packages:\n",
    "# langchain\n",
    "# openai\n",
    "# tiktoken\n",
    "# chromadb\n",
    "\n",
    "import os\n",
    "import logging\n",
    "from langchain.chains import RetrievalQA\n",
    "from langchain.prompts import PromptTemplate\n",
    "from langchain.chat_models import AzureChatOpenAI\n",
    "from langchain.indexes import VectorstoreIndexCreator\n",
    "from langchain.indexes.vectorstore import VectorStoreIndexWrapper\n",
    "from langchain.embeddings.openai import OpenAIEmbeddings\n",
    "from langchain.document_loaders import TextLoader\n",
    "from langchain.vectorstores import Chroma\n",
    "from langchain.text_splitter import (\n",
    "    RecursiveCharacterTextSplitter,\n",
    "    Language,\n",
    ")"
   ]
  },
  {
   "cell_type": "code",
   "execution_count": 2,
   "id": "fc257ecd",
   "metadata": {},
   "outputs": [],
   "source": [
    "os.environ['OPENAI_API_TYPE'] = 'azure'\n",
    "os.environ['OPENAI_API_VERSION'] = '2023-03-15-preview'\n",
    "# os.environ['OPENAI_API_BASE'] = 'https://###.openai.azure.com/'\n",
    "# os.environ['OPENAI_API_KEY'] = '###'"
   ]
  },
  {
   "cell_type": "code",
   "execution_count": 3,
   "id": "c20b20e3",
   "metadata": {},
   "outputs": [],
   "source": [
    "# azure openai\n",
    "\n",
    "azure_openai_embeddings = OpenAIEmbeddings(model='text-embedding-ada-002', chunk_size=1, disallowed_special=())\n",
    "\n",
    "azure_chat_openai = AzureChatOpenAI(deployment_name='gpt-4')"
   ]
  },
  {
   "cell_type": "code",
   "execution_count": null,
   "id": "f6389142",
   "metadata": {},
   "outputs": [],
   "source": [
    "# load code\n",
    "\n",
    "# https://github.com/Azure/azure-rest-api-specs-examples\n",
    "# only use apimanagement, about 400 java files\n",
    "repo_dir = 'C:\\\\github\\\\azure-rest-api-specs-examples\\\\specification\\\\apimanagement\\\\resource-manager\\\\Microsoft.ApiManagement\\\\stable\\\\2021-08-01\\\\examples-java'\n",
    "\n",
    "loaders = []\n",
    "for dirpath, dirnames, filenames in os.walk(repo_dir):\n",
    "    for filename in filenames:\n",
    "        if filename.endswith('.java'):\n",
    "            loader = TextLoader(os.path.join(dirpath, filename), encoding='utf8')\n",
    "            loaders.append(loader)\n",
    "            \n",
    "# index repository\n",
    "\n",
    "index_creator = VectorstoreIndexCreator(\n",
    "    vectorstore_cls=Chroma, \n",
    "    embedding=azure_openai_embeddings,\n",
    "    text_splitter=RecursiveCharacterTextSplitter.from_language(language=Language.JAVA),\n",
    "    vectorstore_kwargs={\n",
    "        'persist_directory': './db-api-management'\n",
    "    }\n",
    ")\n",
    "\n",
    "index = index_creator.from_loaders(loaders)\n",
    "\n",
    "# persist vectordb to disk\n",
    "index.vectorstore.persist()"
   ]
  },
  {
   "cell_type": "code",
   "execution_count": 4,
   "id": "9fa55f1d",
   "metadata": {},
   "outputs": [],
   "source": [
    "# or load existing vectordb from disk\n",
    "\n",
    "vectordb = Chroma(persist_directory='./db-api-management', embedding_function=azure_openai_embeddings)\n",
    "index = VectorStoreIndexWrapper(vectorstore=vectordb)"
   ]
  },
  {
   "cell_type": "code",
   "execution_count": 9,
   "id": "4a287c9e",
   "metadata": {},
   "outputs": [
    {
     "name": "stdout",
     "output_type": "stream",
     "text": [
      "vector store collection size: 388\n"
     ]
    }
   ],
   "source": [
    "vectordb = index.vectorstore\n",
    "print('vector store collection size: ' + str(vectordb._collection.count()))\n",
    "\n",
    "retriever = vectordb.as_retriever()\n",
    "\n",
    "qa = RetrievalQA.from_chain_type(llm=azure_chat_openai, chain_type='stuff', retriever=retriever)"
   ]
  },
  {
   "cell_type": "code",
   "execution_count": 9,
   "id": "4771e203",
   "metadata": {},
   "outputs": [
    {
     "name": "stdout",
     "output_type": "stream",
     "text": [
      "To create an API Management instance using the Azure SDK for Java, you can follow the sample codes provided in the context. Here's a general outline of the steps to create an API Management instance:\n",
      "\n",
      "1. Import the necessary packages.\n",
      "2. Create a class with methods to create different types of APIs.\n",
      "3. In each method, use the `ApiManagementManager` object to define and create the API.\n",
      "\n",
      "Here's an example to create a simple API:\n",
      "\n",
      "```java\n",
      "import com.azure.resourcemanager.apimanagement.models.AuthenticationSettingsContract;\n",
      "import com.azure.resourcemanager.apimanagement.models.Protocol;\n",
      "import com.azure.resourcemanager.apimanagement.models.SubscriptionKeyParameterNamesContract;\n",
      "import java.util.Arrays;\n",
      "\n",
      "public final class Main {\n",
      "    public static void apiManagementCreateApi(com.azure.resourcemanager.apimanagement.ApiManagementManager manager) {\n",
      "        manager\n",
      "            .apis()\n",
      "            .define(\"tempgroup\")\n",
      "            .withExistingService(\"rg1\", \"apimService1\")\n",
      "            .withDisplayName(\"apiname1463\")\n",
      "            .withServiceUrl(\"http://newechoapi.cloudapp.net/api\")\n",
      "            .withPath(\"newapiPath\")\n",
      "            .withProtocols(Arrays.asList(Protocol.HTTPS, Protocol.HTTP))\n",
      "            .withDescription(\"apidescription5200\")\n",
      "            .withAuthenticationSettings(\n",
      "                new AuthenticationSettingsContract()\n",
      "                    .withOAuth2(\n",
      "                        new OAuth2AuthenticationSettingsContract()\n",
      "                            .withAuthorizationServerId(\"authorizationServerId2283\")\n",
      "                            .withScope(\"oauth2scope2580\")))\n",
      "            .withSubscriptionKeyParameterNames(\n",
      "                new SubscriptionKeyParameterNamesContract().withHeaderProperty(\"header4520\").withQuery(\"query3037\"))\n",
      "            .create();\n",
      "    }\n",
      "}\n",
      "```\n",
      "\n",
      "In this example, `ApiManagementManager` is used to define and create an API with specific properties such as display name, service URL, path, protocols, description, authentication settings, and subscription key parameter names. Replace the values like \"rg1\", \"apimService1\", \"tempgroup\", and other parameters with your own values.\n",
      "\n",
      "You can create different types of APIs like WebSocket API, GraphQL API, and APIs with OpenId Connect by following the sample codes provided in the context. Just make sure to call the appropriate method with the `ApiManagementManager` object.\n"
     ]
    }
   ],
   "source": [
    "answer = qa.run('how to create api management')\n",
    "print(answer)"
   ]
  },
  {
   "cell_type": "code",
   "execution_count": 10,
   "id": "8cc80119",
   "metadata": {},
   "outputs": [
    {
     "name": "stdout",
     "output_type": "stream",
     "text": [
      "To configure a gateway in Azure API Management, you can follow these steps using the provided sample code:\n",
      "\n",
      "1. First, import the necessary classes at the beginning of your file:\n",
      "\n",
      "```java\n",
      "import com.azure.core.util.Context;\n",
      "import com.azure.resourcemanager.apimanagement.ApiManagementManager;\n",
      "import com.azure.resourcemanager.apimanagement.models.GatewayContract;\n",
      "import com.azure.resourcemanager.apimanagement.models.ResourceLocationDataContract;\n",
      "```\n",
      "\n",
      "2. Create or update an existing gateway with the desired configuration:\n",
      "\n",
      "```java\n",
      "public static void configureGateway(ApiManagementManager manager, String resourceGroupName, String serviceName, String gatewayName) {\n",
      "    // Retrieve the existing gateway\n",
      "    GatewayContract resource = manager.gateways().getWithResponse(resourceGroupName, serviceName, gatewayName, Context.NONE).getValue();\n",
      "\n",
      "    // Update the gateway with new configuration\n",
      "    resource\n",
      "        .update()\n",
      "        .withLocationData(new ResourceLocationDataContract().withName(\"my location\"))\n",
      "        .withDescription(\"my gateway 1\")\n",
      "        .withIfMatch(\"*\")\n",
      "        .apply();\n",
      "}\n",
      "```\n",
      "\n",
      "In this example, `configureGateway` function retrieves an existing gateway and updates its location data and description. Replace the values of `resourceGroupName`, `serviceName`, and `gatewayName` with the appropriate values for your API Management instance.\n",
      "\n",
      "Note that you need to have an instance of `ApiManagementManager` to use these methods.\n"
     ]
    }
   ],
   "source": [
    "answer = qa.run('how to configure gateway')\n",
    "print(answer)"
   ]
  },
  {
   "cell_type": "code",
   "execution_count": 11,
   "id": "40ba93ba",
   "metadata": {},
   "outputs": [
    {
     "name": "stdout",
     "output_type": "stream",
     "text": [
      "To create a logger, you can follow the sample code provided below:\n",
      "\n",
      "For Application Insights Logger:\n",
      "```java\n",
      "import com.azure.resourcemanager.apimanagement.ApiManagementManager;\n",
      "import com.azure.resourcemanager.apimanagement.models.LoggerType;\n",
      "import java.util.HashMap;\n",
      "import java.util.Map;\n",
      "\n",
      "public class Main {\n",
      "    public static void main(String[] args) {\n",
      "        ApiManagementManager manager = ...; // Initialize the ApiManagementManager instance\n",
      "\n",
      "        apiManagementCreateAILogger(manager);\n",
      "    }\n",
      "\n",
      "    public static void apiManagementCreateAILogger(ApiManagementManager manager) {\n",
      "        manager\n",
      "            .loggers()\n",
      "            .define(\"loggerId\")\n",
      "            .withExistingService(\"rg1\", \"apimService1\")\n",
      "            .withLoggerType(LoggerType.APPLICATION_INSIGHTS)\n",
      "            .withDescription(\"adding a new logger\")\n",
      "            .withCredentials(mapOf(\"instrumentationKey\", \"11................a1\"))\n",
      "            .create();\n",
      "    }\n",
      "\n",
      "    private static <T> Map<String, T> mapOf(Object... inputs) {\n",
      "        Map<String, T> map = new HashMap<>();\n",
      "        for (int i = 0; i < inputs.length; i += 2) {\n",
      "            String key = (String) inputs[i];\n",
      "            T value = (T) inputs[i + 1];\n",
      "            map.put(key, value);\n",
      "        }\n",
      "        return map;\n",
      "    }\n",
      "}\n",
      "```\n",
      "\n",
      "For Azure Event Hub Logger:\n",
      "```java\n",
      "import com.azure.resourcemanager.apimanagement.ApiManagementManager;\n",
      "import com.azure.resourcemanager.apimanagement.models.LoggerType;\n",
      "import java.util.HashMap;\n",
      "import java.util.Map;\n",
      "\n",
      "public class Main {\n",
      "    public static void main(String[] args) {\n",
      "        ApiManagementManager manager = ...; // Initialize the ApiManagementManager instance\n",
      "\n",
      "        apiManagementCreateEHLogger(manager);\n",
      "    }\n",
      "\n",
      "    public static void apiManagementCreateEHLogger(ApiManagementManager manager) {\n",
      "        manager\n",
      "            .loggers()\n",
      "            .define(\"eh1\")\n",
      "            .withExistingService(\"rg1\", \"apimService1\")\n",
      "            .withLoggerType(LoggerType.AZURE_EVENT_HUB)\n",
      "            .withDescription(\"adding a new logger\")\n",
      "            .withCredentials(\n",
      "                mapOf(\n",
      "                    \"name\",\n",
      "                    \"hydraeventhub\",\n",
      "                    \"connectionString\",\n",
      "                    \"Endpoint=sb://hydraeventhub-ns.servicebus.windows.net/;SharedAccessKeyName=RootManageSharedAccessKey;SharedAccessKey=********=\"))\n",
      "            .create();\n",
      "    }\n",
      "\n",
      "    private static <T> Map<String, T> mapOf(Object... inputs) {\n",
      "        Map<String, T> map = new HashMap<>();\n",
      "        for (int i = 0; i < inputs.length; i += 2) {\n",
      "            String key = (String) inputs[i];\n",
      "            T value = (T) inputs[i + 1];\n",
      "            map.put(key, value);\n",
      "        }\n",
      "        return map;\n",
      "    }\n",
      "}\n",
      "```\n",
      "\n",
      "Make sure to replace the placeholders (like `...`) with the actual values or instances.\n"
     ]
    }
   ],
   "source": [
    "answer = qa.run('how to create logger')\n",
    "print(answer)\n",
    "\n",
    "# notes: it actually find the 2 samples of logger configure"
   ]
  },
  {
   "cell_type": "code",
   "execution_count": 12,
   "id": "735a29c9",
   "metadata": {},
   "outputs": [
    {
     "name": "stdout",
     "output_type": "stream",
     "text": [
      "Before you can run API release, you need to create an API Management service instance and an API within that instance. In the code samples provided, the API Management service instance is referred to as \"apimService1\" and the API is referred to as \"a1\". These resources should be created within a resource group, in this case, \"rg1\".\n"
     ]
    }
   ],
   "source": [
    "answer = qa.run('what resource do I need to create, before I can run api release')\n",
    "print(answer)\n",
    "\n",
    "# notes: it actually replies what are the depencencies, which is not clear from the samples.\n",
    "# It would be great if follow up question like \"what are the code to create them\" can be answered correctly."
   ]
  },
  {
   "cell_type": "code",
   "execution_count": 14,
   "id": "a7ca8e52",
   "metadata": {},
   "outputs": [
    {
     "name": "stdout",
     "output_type": "stream",
     "text": [
      "To create an API Management instance and all required dependencies, you need to follow these steps:\n",
      "\n",
      "1. Set up your development environment and authenticate with Azure. You can refer to the Azure SDK for Java documentation on how to do this: https://docs.microsoft.com/en-us/azure/developer/java/sdk/java-sdk-configure-environment\n",
      "\n",
      "2. Create an API Management instance in Azure. You can use the following code snippet as a reference:\n",
      "\n",
      "```java\n",
      "import com.azure.resourcemanager.AzureResourceManager;\n",
      "import com.azure.resourcemanager.apimanagement.models.ApiManagementService;\n",
      "import com.azure.core.management.Region;\n",
      "\n",
      "public static void createApiManagementInstance(AzureResourceManager azureResourceManager) {\n",
      "    String resourceGroupName = \"rg1\";\n",
      "    String apimServiceName = \"apimService1\";\n",
      "    String location = Region.US_WEST.name();\n",
      "\n",
      "    ApiManagementService apiManagementService = azureResourceManager.apiManagementServices().define(apimServiceName)\n",
      "            .withRegion(location)\n",
      "            .withExistingResourceGroup(resourceGroupName)\n",
      "            .withSku(ApiManagementServiceSkuType.DEVELOPER)\n",
      "            .withCapacity(1)\n",
      "            .create();\n",
      "}\n",
      "```\n",
      "\n",
      "Replace \"rg1\" and \"apimService1\" with your desired resource group and API Management service names respectively.\n",
      "\n",
      "3. Create an API in your API Management instance. You can refer to the Azure SDK for Java documentation on how to do this: https://docs.microsoft.com/en-us/azure/developer/java/sdk/java-sdk-azure-api-management\n",
      "\n",
      "4. Create an API release using the following code snippet:\n",
      "\n",
      "```java\n",
      "import com.azure.resourcemanager.apimanagement.ApiManagementManager;\n",
      "\n",
      "public static void apiManagementCreateApiRelease(ApiManagementManager manager) {\n",
      "    manager\n",
      "        .apiReleases()\n",
      "        .define(\"testrev\")\n",
      "        .withExistingApi(\"rg1\", \"apimService1\", \"a1\")\n",
      "        .withApiId(\n",
      "            \"/subscriptions/subid/resourceGroups/rg1/providers/Microsoft.ApiManagement/service/apimService1/apis/a1\")\n",
      "        .withNotes(\"yahooagain\")\n",
      "        .create();\n",
      "}\n",
      "```\n",
      "\n",
      "Replace \"rg1\", \"apimService1\", and \"a1\" with your resource group, API Management service, and API names respectively.\n",
      "\n",
      "After completing these steps, you should have an API Management instance with an API and an API release created.\n"
     ]
    }
   ],
   "source": [
    "answer = qa.run('how to create api management, and all required dependencies, till code to run api release')\n",
    "print(answer)\n",
    "\n",
    "# notes: not sure if all code compiles, but it looks about right."
   ]
  }
 ],
 "metadata": {
  "kernelspec": {
   "display_name": "Python [conda env:llm]",
   "language": "python",
   "name": "conda-env-llm-py"
  },
  "language_info": {
   "codemirror_mode": {
    "name": "ipython",
    "version": 3
   },
   "file_extension": ".py",
   "mimetype": "text/x-python",
   "name": "python",
   "nbconvert_exporter": "python",
   "pygments_lexer": "ipython3",
   "version": "3.11.4"
  }
 },
 "nbformat": 4,
 "nbformat_minor": 5
}
